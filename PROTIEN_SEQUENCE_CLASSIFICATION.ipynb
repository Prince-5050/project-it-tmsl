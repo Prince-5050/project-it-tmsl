{
  "nbformat": 4,
  "nbformat_minor": 0,
  "metadata": {
    "colab": {
      "provenance": [],
      "collapsed_sections": [
        "FC6gv2pEp7Qv",
        "_eOnZOGsNdDI"
      ],
      "include_colab_link": true
    },
    "kernelspec": {
      "name": "python3",
      "display_name": "Python 3"
    },
    "language_info": {
      "name": "python"
    },
    "accelerator": "GPU",
    "gpuClass": "standard"
  },
  "cells": [
    {
      "cell_type": "markdown",
      "metadata": {
        "id": "view-in-github",
        "colab_type": "text"
      },
      "source": [
        "<a href=\"https://colab.research.google.com/github/Prince-5050/project-it-tmsl/blob/main/PROTIEN_SEQUENCE_CLASSIFICATION.ipynb\" target=\"_parent\"><img src=\"https://colab.research.google.com/assets/colab-badge.svg\" alt=\"Open In Colab\"/></a>"
      ]
    },
    {
      "cell_type": "markdown",
      "source": [
        "# **Protien Sequence Classification**"
      ],
      "metadata": {
        "id": "n0c_kYMDwe3u"
      }
    },
    {
      "cell_type": "code",
      "source": [
        "%matplotlib inline\n",
        "\n",
        "import os\n",
        "import gc\n",
        "\n",
        "import numpy as np\n",
        "import pandas as pd\n",
        "import matplotlib.pyplot as plt\n",
        "import seaborn as sns\n",
        "\n",
        "from collections import Counter\n",
        "from prettytable import PrettyTable\n",
        "from IPython.display import Image\n",
        "\n",
        "from sklearn.preprocessing import LabelEncoder\n",
        "\n",
        "from keras.models import Model\n",
        "from keras.regularizers import l2\n",
        "from keras.constraints import max_norm\n",
        "from keras.utils import to_categorical\n",
        "from keras.preprocessing.text import Tokenizer\n",
        "from keras_preprocessing.sequence import pad_sequences\n",
        "from keras.callbacks import EarlyStopping\n",
        "from keras.layers import Input, Dense, Dropout, Flatten, Activation\n",
        "from keras.layers import Conv1D, Add, MaxPooling1D, BatchNormalization\n",
        "from keras.layers import Embedding, Bidirectional, CuDNNLSTM, GlobalMaxPooling1D"
      ],
      "metadata": {
        "id": "6Cfdmv1wpMR6"
      },
      "execution_count": 1,
      "outputs": []
    },
    {
      "cell_type": "code",
      "source": [
        "from google.colab import drive\n",
        "drive.mount('/content/drive')\n",
        "data_path = 'drive/My Drive/random_split/'\n",
        "print('Available data', os.listdir(data_path))"
      ],
      "metadata": {
        "id": "Tx649ox_4kLM",
        "outputId": "2fdb79f3-e514-4310-9e1c-5d6bf90fc71b",
        "colab": {
          "base_uri": "https://localhost:8080/"
        }
      },
      "execution_count": null,
      "outputs": [
        {
          "output_type": "stream",
          "name": "stdout",
          "text": [
            "Mounted at /content/drive\n",
            "Available data ['random_split', 'test', 'train', 'dev']\n"
          ]
        }
      ]
    },
    {
      "cell_type": "code",
      "source": [
        "# data is randomly splitted in three folders [train(80%), test(10%), dev(10%)]\n",
        "# reading and concatinating data for each folder.\n",
        "\n",
        "def read_data(partition):\n",
        "  data = []\n",
        "  for fn in os.listdir(os.path.join(data_path, partition)):\n",
        "    with open(os.path.join(data_path, partition, fn)) as f:\n",
        "      data.append(pd.read_csv(f, index_col=None))\n",
        "  return pd.concat(data)\n",
        "# reading all data_partitions\n",
        "\n",
        "df_train = read_data('train')\n",
        "df_val = read_data('dev')\n",
        "df_test = read_data('test')"
      ],
      "metadata": {
        "id": "Gpof8g5tsP2Z"
      },
      "execution_count": null,
      "outputs": []
    },
    {
      "cell_type": "markdown",
      "source": [
        "Basic statistics\n"
      ],
      "metadata": {
        "id": "5h8h6rbEtJXD"
      }
    },
    {
      "cell_type": "code",
      "source": [
        "df_train.head()"
      ],
      "metadata": {
        "colab": {
          "base_uri": "https://localhost:8080/",
          "height": 357
        },
        "id": "HGgpbrJTtVW-",
        "outputId": "3efd62f6-fef7-4019-bef5-eac5b0293588"
      },
      "execution_count": null,
      "outputs": [
        {
          "output_type": "execute_result",
          "data": {
            "text/plain": [
              "        family_id           sequence_name family_accession  \\\n",
              "0          MORN_2    Q8EI47_SHEON/428-449       PF07661.13   \n",
              "1   Plexin_cytopl  H2TB23_TAKRU/1240-1793       PF08337.12   \n",
              "2       RT_RNaseH    H3H8E9_PHYRM/405-501        PF17917.1   \n",
              "3  Transposase_20    Q981X5_RHILO/224-313       PF02371.16   \n",
              "4   Mycobact_memb      MMPS4_MYCLE/16-154       PF05423.13   \n",
              "\n",
              "                                    aligned_sequence  \\\n",
              "0                            LHGEFRNQTSSGQLLELI.NFNH   \n",
              "1  .MPFLDYKTYTDCNFFLPSKDGAND......AMITRKLQIPE.......   \n",
              "2  DYSRRFHVFADAS.GH.QIGGVIVQ........................   \n",
              "3  VEAYQAMRGASFLVAVIFAAEI.GDV.RR.FDTPPQLMAFLGLVPG...   \n",
              "4  LSRIWIPLVILVVLVVGGFVVYRVHSYFASEKRESYADSNLGSSKP...   \n",
              "\n",
              "                                            sequence  \n",
              "0                             LHGEFRNQTSSGQLLELINFNH  \n",
              "1  MPFLDYKTYTDCNFFLPSKDGANDAMITRKLQIPEARRAIVAQALN...  \n",
              "2  DYSRRFHVFADASGHQIGGVIVQGRRILACFSRSMTDTQKKYSTME...  \n",
              "3  VEAYQAMRGASFLVAVIFAAEIGDVRRFDTPPQLMAFLGLVPGERS...  \n",
              "4  LSRIWIPLVILVVLVVGGFVVYRVHSYFASEKRESYADSNLGSSKP...  "
            ],
            "text/html": [
              "\n",
              "  <div id=\"df-2d022a1c-c53d-48c2-8d8f-65f0379a7354\">\n",
              "    <div class=\"colab-df-container\">\n",
              "      <div>\n",
              "<style scoped>\n",
              "    .dataframe tbody tr th:only-of-type {\n",
              "        vertical-align: middle;\n",
              "    }\n",
              "\n",
              "    .dataframe tbody tr th {\n",
              "        vertical-align: top;\n",
              "    }\n",
              "\n",
              "    .dataframe thead th {\n",
              "        text-align: right;\n",
              "    }\n",
              "</style>\n",
              "<table border=\"1\" class=\"dataframe\">\n",
              "  <thead>\n",
              "    <tr style=\"text-align: right;\">\n",
              "      <th></th>\n",
              "      <th>family_id</th>\n",
              "      <th>sequence_name</th>\n",
              "      <th>family_accession</th>\n",
              "      <th>aligned_sequence</th>\n",
              "      <th>sequence</th>\n",
              "    </tr>\n",
              "  </thead>\n",
              "  <tbody>\n",
              "    <tr>\n",
              "      <th>0</th>\n",
              "      <td>MORN_2</td>\n",
              "      <td>Q8EI47_SHEON/428-449</td>\n",
              "      <td>PF07661.13</td>\n",
              "      <td>LHGEFRNQTSSGQLLELI.NFNH</td>\n",
              "      <td>LHGEFRNQTSSGQLLELINFNH</td>\n",
              "    </tr>\n",
              "    <tr>\n",
              "      <th>1</th>\n",
              "      <td>Plexin_cytopl</td>\n",
              "      <td>H2TB23_TAKRU/1240-1793</td>\n",
              "      <td>PF08337.12</td>\n",
              "      <td>.MPFLDYKTYTDCNFFLPSKDGAND......AMITRKLQIPE.......</td>\n",
              "      <td>MPFLDYKTYTDCNFFLPSKDGANDAMITRKLQIPEARRAIVAQALN...</td>\n",
              "    </tr>\n",
              "    <tr>\n",
              "      <th>2</th>\n",
              "      <td>RT_RNaseH</td>\n",
              "      <td>H3H8E9_PHYRM/405-501</td>\n",
              "      <td>PF17917.1</td>\n",
              "      <td>DYSRRFHVFADAS.GH.QIGGVIVQ........................</td>\n",
              "      <td>DYSRRFHVFADASGHQIGGVIVQGRRILACFSRSMTDTQKKYSTME...</td>\n",
              "    </tr>\n",
              "    <tr>\n",
              "      <th>3</th>\n",
              "      <td>Transposase_20</td>\n",
              "      <td>Q981X5_RHILO/224-313</td>\n",
              "      <td>PF02371.16</td>\n",
              "      <td>VEAYQAMRGASFLVAVIFAAEI.GDV.RR.FDTPPQLMAFLGLVPG...</td>\n",
              "      <td>VEAYQAMRGASFLVAVIFAAEIGDVRRFDTPPQLMAFLGLVPGERS...</td>\n",
              "    </tr>\n",
              "    <tr>\n",
              "      <th>4</th>\n",
              "      <td>Mycobact_memb</td>\n",
              "      <td>MMPS4_MYCLE/16-154</td>\n",
              "      <td>PF05423.13</td>\n",
              "      <td>LSRIWIPLVILVVLVVGGFVVYRVHSYFASEKRESYADSNLGSSKP...</td>\n",
              "      <td>LSRIWIPLVILVVLVVGGFVVYRVHSYFASEKRESYADSNLGSSKP...</td>\n",
              "    </tr>\n",
              "  </tbody>\n",
              "</table>\n",
              "</div>\n",
              "      <button class=\"colab-df-convert\" onclick=\"convertToInteractive('df-2d022a1c-c53d-48c2-8d8f-65f0379a7354')\"\n",
              "              title=\"Convert this dataframe to an interactive table.\"\n",
              "              style=\"display:none;\">\n",
              "        \n",
              "  <svg xmlns=\"http://www.w3.org/2000/svg\" height=\"24px\"viewBox=\"0 0 24 24\"\n",
              "       width=\"24px\">\n",
              "    <path d=\"M0 0h24v24H0V0z\" fill=\"none\"/>\n",
              "    <path d=\"M18.56 5.44l.94 2.06.94-2.06 2.06-.94-2.06-.94-.94-2.06-.94 2.06-2.06.94zm-11 1L8.5 8.5l.94-2.06 2.06-.94-2.06-.94L8.5 2.5l-.94 2.06-2.06.94zm10 10l.94 2.06.94-2.06 2.06-.94-2.06-.94-.94-2.06-.94 2.06-2.06.94z\"/><path d=\"M17.41 7.96l-1.37-1.37c-.4-.4-.92-.59-1.43-.59-.52 0-1.04.2-1.43.59L10.3 9.45l-7.72 7.72c-.78.78-.78 2.05 0 2.83L4 21.41c.39.39.9.59 1.41.59.51 0 1.02-.2 1.41-.59l7.78-7.78 2.81-2.81c.8-.78.8-2.07 0-2.86zM5.41 20L4 18.59l7.72-7.72 1.47 1.35L5.41 20z\"/>\n",
              "  </svg>\n",
              "      </button>\n",
              "      \n",
              "  <style>\n",
              "    .colab-df-container {\n",
              "      display:flex;\n",
              "      flex-wrap:wrap;\n",
              "      gap: 12px;\n",
              "    }\n",
              "\n",
              "    .colab-df-convert {\n",
              "      background-color: #E8F0FE;\n",
              "      border: none;\n",
              "      border-radius: 50%;\n",
              "      cursor: pointer;\n",
              "      display: none;\n",
              "      fill: #1967D2;\n",
              "      height: 32px;\n",
              "      padding: 0 0 0 0;\n",
              "      width: 32px;\n",
              "    }\n",
              "\n",
              "    .colab-df-convert:hover {\n",
              "      background-color: #E2EBFA;\n",
              "      box-shadow: 0px 1px 2px rgba(60, 64, 67, 0.3), 0px 1px 3px 1px rgba(60, 64, 67, 0.15);\n",
              "      fill: #174EA6;\n",
              "    }\n",
              "\n",
              "    [theme=dark] .colab-df-convert {\n",
              "      background-color: #3B4455;\n",
              "      fill: #D2E3FC;\n",
              "    }\n",
              "\n",
              "    [theme=dark] .colab-df-convert:hover {\n",
              "      background-color: #434B5C;\n",
              "      box-shadow: 0px 1px 3px 1px rgba(0, 0, 0, 0.15);\n",
              "      filter: drop-shadow(0px 1px 2px rgba(0, 0, 0, 0.3));\n",
              "      fill: #FFFFFF;\n",
              "    }\n",
              "  </style>\n",
              "\n",
              "      <script>\n",
              "        const buttonEl =\n",
              "          document.querySelector('#df-2d022a1c-c53d-48c2-8d8f-65f0379a7354 button.colab-df-convert');\n",
              "        buttonEl.style.display =\n",
              "          google.colab.kernel.accessAllowed ? 'block' : 'none';\n",
              "\n",
              "        async function convertToInteractive(key) {\n",
              "          const element = document.querySelector('#df-2d022a1c-c53d-48c2-8d8f-65f0379a7354');\n",
              "          const dataTable =\n",
              "            await google.colab.kernel.invokeFunction('convertToInteractive',\n",
              "                                                     [key], {});\n",
              "          if (!dataTable) return;\n",
              "\n",
              "          const docLinkHtml = 'Like what you see? Visit the ' +\n",
              "            '<a target=\"_blank\" href=https://colab.research.google.com/notebooks/data_table.ipynb>data table notebook</a>'\n",
              "            + ' to learn more about interactive tables.';\n",
              "          element.innerHTML = '';\n",
              "          dataTable['output_type'] = 'display_data';\n",
              "          await google.colab.output.renderOutput(dataTable, element);\n",
              "          const docLink = document.createElement('div');\n",
              "          docLink.innerHTML = docLinkHtml;\n",
              "          element.appendChild(docLink);\n",
              "        }\n",
              "      </script>\n",
              "    </div>\n",
              "  </div>\n",
              "  "
            ]
          },
          "metadata": {},
          "execution_count": 4
        }
      ]
    },
    {
      "cell_type": "markdown",
      "source": [
        "# **Aligned Sequence**\n",
        "# Each character reperesents one of the 24(20 common + 4 uncommon) amino acids in the sequence."
      ],
      "metadata": {
        "id": "InOiZRQYtnma"
      }
    },
    {
      "cell_type": "code",
      "source": [
        "# Given data size\n",
        "print('Train size: ', len(df_train))\n",
        "print('Val size: ', len(df_val))\n",
        "print('Test size: ', len(df_test))"
      ],
      "metadata": {
        "colab": {
          "base_uri": "https://localhost:8080/"
        },
        "id": "Oz6vviQCt1iC",
        "outputId": "eef3e50f-a77d-4c88-c9fa-1da367841bcf"
      },
      "execution_count": null,
      "outputs": [
        {
          "output_type": "stream",
          "name": "stdout",
          "text": [
            "Train size:  1086741\n",
            "Val size:  126171\n",
            "Test size:  126171\n"
          ]
        }
      ]
    },
    {
      "cell_type": "code",
      "source": [
        "def calc_unique_cls(train, test, val):\n",
        "  \"\"\"\n",
        "  Prints # unique classes in data sets.\n",
        "  \"\"\"\n",
        "  train_unq = np.unique(train['family_accession'].values)\n",
        "  val_unq = np.unique(val['family_accession'].values)\n",
        "  test_unq = np.unique(test['family_accession'].values)\n",
        "\n",
        "  print('Number of unique classes in Train: ', len(train_unq))\n",
        "  print('Number of unique classes in Val: ', len(val_unq))\n",
        "  print('Number of unique classes in Test: ', len(test_unq))\n",
        "# Unique classes in the given dataset : [df_train, df_val and df_test]\n",
        "\n",
        "calc_unique_cls(df_train, df_test, df_val)"
      ],
      "metadata": {
        "id": "ii2swI-5uFMK",
        "colab": {
          "base_uri": "https://localhost:8080/"
        },
        "outputId": "755cfa73-d4d4-42b8-eb6d-19f82d1aa9b2"
      },
      "execution_count": null,
      "outputs": [
        {
          "output_type": "stream",
          "name": "stdout",
          "text": [
            "Number of unique classes in Train:  17929\n",
            "Number of unique classes in Val:  13071\n",
            "Number of unique classes in Test:  13071\n"
          ]
        }
      ]
    },
    {
      "cell_type": "markdown",
      "source": [
        "COUNTING SEQUENCES"
      ],
      "metadata": {
        "id": "ZP8ud7g2uPQ9"
      }
    },
    {
      "cell_type": "code",
      "source": [
        "# Length of sequence in train data.\n",
        "df_train['seq_char_count']= df_train['sequence'].apply(lambda x: len(x))\n",
        "df_val['seq_char_count']= df_val['sequence'].apply(lambda x: len(x))\n",
        "df_test['seq_char_count']= df_test['sequence'].apply(lambda x: len(x))\n",
        "def plot_seq_count(df, data_name):\n",
        "  sns.distplot(df['seq_char_count'].values)\n",
        "  plt.title(f'Sequence char count: {data_name}')\n",
        "  plt.grid(True)\n",
        "plt.subplot(1, 3, 1)\n",
        "plot_seq_count(df_train, 'Train')\n",
        "\n",
        "plt.subplot(1, 3, 2)\n",
        "plot_seq_count(df_val, 'Val')\n",
        "\n",
        "plt.subplot(1, 3, 3)\n",
        "plot_seq_count(df_test, 'Test')\n",
        "\n",
        "plt.subplots_adjust(right=3.0)\n",
        "plt.show()\n"
      ],
      "metadata": {
        "id": "9-59anQRuRiD",
        "colab": {
          "base_uri": "https://localhost:8080/",
          "height": 393
        },
        "outputId": "9d5aecbf-7d0c-42fe-8d68-8e92cadbef67"
      },
      "execution_count": null,
      "outputs": [
        {
          "output_type": "stream",
          "name": "stderr",
          "text": [
            "/usr/local/lib/python3.7/dist-packages/seaborn/distributions.py:2619: FutureWarning: `distplot` is a deprecated function and will be removed in a future version. Please adapt your code to use either `displot` (a figure-level function with similar flexibility) or `histplot` (an axes-level function for histograms).\n",
            "  warnings.warn(msg, FutureWarning)\n",
            "/usr/local/lib/python3.7/dist-packages/seaborn/distributions.py:2619: FutureWarning: `distplot` is a deprecated function and will be removed in a future version. Please adapt your code to use either `displot` (a figure-level function with similar flexibility) or `histplot` (an axes-level function for histograms).\n",
            "  warnings.warn(msg, FutureWarning)\n",
            "/usr/local/lib/python3.7/dist-packages/seaborn/distributions.py:2619: FutureWarning: `distplot` is a deprecated function and will be removed in a future version. Please adapt your code to use either `displot` (a figure-level function with similar flexibility) or `histplot` (an axes-level function for histograms).\n",
            "  warnings.warn(msg, FutureWarning)\n"
          ]
        },
        {
          "output_type": "display_data",
          "data": {
            "text/plain": [
              "<Figure size 432x288 with 3 Axes>"
            ],
            "image/png": "[encoded data removed]"
          },
          "metadata": {
            "needs_background": "light"
          }
        }
      ]
    },
    {
      "cell_type": "markdown",
      "source": [
        " **observation** :\n",
        " Most of the unaligned amino acids are in the range **0-250**"
      ],
      "metadata": {
        "id": "onIFa87IvLlo"
      }
    },
    {
      "cell_type": "markdown",
      "source": [
        "**SEQUENCE CODE FREQUENCY**:Representing Amino acids with their corresponding 1 letter code."
      ],
      "metadata": {
        "id": "0u0pNydCgwvG"
      }
    },
    {
      "cell_type": "code",
      "source": [
        "from sklearn.model_selection import train_test_split"
      ],
      "metadata": {
        "id": "-RcTmKkDh1pn"
      },
      "execution_count": null,
      "outputs": []
    },
    {
      "cell_type": "code",
      "source": [
        "def get_code_freq(df, data_name):\n",
        "  \n",
        "  df = df.apply(lambda x: \" \".join(x))\n",
        "  \n",
        "  codes = []\n",
        "  for i in df: # concatination of all codes\n",
        "    codes.extend(i)\n",
        "\n",
        "  codes_dict= Counter(codes)\n",
        "  codes_dict.pop(' ') # removing white space\n",
        "  \n",
        "  print(f'Codes: {data_name}')\n",
        "  print(f'Total unique codes: {len(codes_dict.keys())}')\n",
        "\n",
        "  df = pd.DataFrame({'Code': list(codes_dict.keys()), 'Freq': list(codes_dict.values())})\n",
        "  return df.sort_values('Freq', ascending=False).reset_index()[['Code', 'Freq']]"
      ],
      "metadata": {
        "id": "ivGeKiq2kL5E"
      },
      "execution_count": null,
      "outputs": []
    },
    {
      "cell_type": "code",
      "source": [
        "# train code sequence\n",
        "train_code_freq = get_code_freq(df_train['sequence'], 'Train')\n",
        "train_code_freq"
      ],
      "metadata": {
        "colab": {
          "base_uri": "https://localhost:8080/",
          "height": 868
        },
        "id": "zLW938iykVcW",
        "outputId": "f29b18a1-1c24-4478-bfbd-407042b147c1"
      },
      "execution_count": null,
      "outputs": [
        {
          "output_type": "stream",
          "name": "stdout",
          "text": [
            "Codes: Train\n",
            "Total unique codes: 25\n"
          ]
        },
        {
          "output_type": "execute_result",
          "data": {
            "text/plain": [
              "   Code      Freq\n",
              "0     L  17062816\n",
              "1     A  14384873\n",
              "2     V  11913147\n",
              "3     G  11845579\n",
              "4     E  10859966\n",
              "5     S  10597822\n",
              "6     I  10234455\n",
              "7     R   9406165\n",
              "8     D   9371097\n",
              "9     K   9127832\n",
              "10    T   9034110\n",
              "11    P   7441084\n",
              "12    F   7130287\n",
              "13    N   6616976\n",
              "14    Q   6250389\n",
              "15    Y   5556597\n",
              "16    M   3708948\n",
              "17    H   3704587\n",
              "18    C   2316115\n",
              "19    W   2293257\n",
              "20    X      1505\n",
              "21    U       119\n",
              "22    B        33\n",
              "23    O        18\n",
              "24    Z         8"
            ],
            "text/html": [
              "\n",
              "  <div id=\"df-7ac38a8f-1159-4dad-aa31-bfee43b01372\">\n",
              "    <div class=\"colab-df-container\">\n",
              "      <div>\n",
              "<style scoped>\n",
              "    .dataframe tbody tr th:only-of-type {\n",
              "        vertical-align: middle;\n",
              "    }\n",
              "\n",
              "    .dataframe tbody tr th {\n",
              "        vertical-align: top;\n",
              "    }\n",
              "\n",
              "    .dataframe thead th {\n",
              "        text-align: right;\n",
              "    }\n",
              "</style>\n",
              "<table border=\"1\" class=\"dataframe\">\n",
              "  <thead>\n",
              "    <tr style=\"text-align: right;\">\n",
              "      <th></th>\n",
              "      <th>Code</th>\n",
              "      <th>Freq</th>\n",
              "    </tr>\n",
              "  </thead>\n",
              "  <tbody>\n",
              "    <tr>\n",
              "      <th>0</th>\n",
              "      <td>L</td>\n",
              "      <td>17062816</td>\n",
              "    </tr>\n",
              "    <tr>\n",
              "      <th>1</th>\n",
              "      <td>A</td>\n",
              "      <td>14384873</td>\n",
              "    </tr>\n",
              "    <tr>\n",
              "      <th>2</th>\n",
              "      <td>V</td>\n",
              "      <td>11913147</td>\n",
              "    </tr>\n",
              "    <tr>\n",
              "      <th>3</th>\n",
              "      <td>G</td>\n",
              "      <td>11845579</td>\n",
              "    </tr>\n",
              "    <tr>\n",
              "      <th>4</th>\n",
              "      <td>E</td>\n",
              "      <td>10859966</td>\n",
              "    </tr>\n",
              "    <tr>\n",
              "      <th>5</th>\n",
              "      <td>S</td>\n",
              "      <td>10597822</td>\n",
              "    </tr>\n",
              "    <tr>\n",
              "      <th>6</th>\n",
              "      <td>I</td>\n",
              "      <td>10234455</td>\n",
              "    </tr>\n",
              "    <tr>\n",
              "      <th>7</th>\n",
              "      <td>R</td>\n",
              "      <td>9406165</td>\n",
              "    </tr>\n",
              "    <tr>\n",
              "      <th>8</th>\n",
              "      <td>D</td>\n",
              "      <td>9371097</td>\n",
              "    </tr>\n",
              "    <tr>\n",
              "      <th>9</th>\n",
              "      <td>K</td>\n",
              "      <td>9127832</td>\n",
              "    </tr>\n",
              "    <tr>\n",
              "      <th>10</th>\n",
              "      <td>T</td>\n",
              "      <td>9034110</td>\n",
              "    </tr>\n",
              "    <tr>\n",
              "      <th>11</th>\n",
              "      <td>P</td>\n",
              "      <td>7441084</td>\n",
              "    </tr>\n",
              "    <tr>\n",
              "      <th>12</th>\n",
              "      <td>F</td>\n",
              "      <td>7130287</td>\n",
              "    </tr>\n",
              "    <tr>\n",
              "      <th>13</th>\n",
              "      <td>N</td>\n",
              "      <td>6616976</td>\n",
              "    </tr>\n",
              "    <tr>\n",
              "      <th>14</th>\n",
              "      <td>Q</td>\n",
              "      <td>6250389</td>\n",
              "    </tr>\n",
              "    <tr>\n",
              "      <th>15</th>\n",
              "      <td>Y</td>\n",
              "      <td>5556597</td>\n",
              "    </tr>\n",
              "    <tr>\n",
              "      <th>16</th>\n",
              "      <td>M</td>\n",
              "      <td>3708948</td>\n",
              "    </tr>\n",
              "    <tr>\n",
              "      <th>17</th>\n",
              "      <td>H</td>\n",
              "      <td>3704587</td>\n",
              "    </tr>\n",
              "    <tr>\n",
              "      <th>18</th>\n",
              "      <td>C</td>\n",
              "      <td>2316115</td>\n",
              "    </tr>\n",
              "    <tr>\n",
              "      <th>19</th>\n",
              "      <td>W</td>\n",
              "      <td>2293257</td>\n",
              "    </tr>\n",
              "    <tr>\n",
              "      <th>20</th>\n",
              "      <td>X</td>\n",
              "      <td>1505</td>\n",
              "    </tr>\n",
              "    <tr>\n",
              "      <th>21</th>\n",
              "      <td>U</td>\n",
              "      <td>119</td>\n",
              "    </tr>\n",
              "    <tr>\n",
              "      <th>22</th>\n",
              "      <td>B</td>\n",
              "      <td>33</td>\n",
              "    </tr>\n",
              "    <tr>\n",
              "      <th>23</th>\n",
              "      <td>O</td>\n",
              "      <td>18</td>\n",
              "    </tr>\n",
              "    <tr>\n",
              "      <th>24</th>\n",
              "      <td>Z</td>\n",
              "      <td>8</td>\n",
              "    </tr>\n",
              "  </tbody>\n",
              "</table>\n",
              "</div>\n",
              "      <button class=\"colab-df-convert\" onclick=\"convertToInteractive('df-7ac38a8f-1159-4dad-aa31-bfee43b01372')\"\n",
              "              title=\"Convert this dataframe to an interactive table.\"\n",
              "              style=\"display:none;\">\n",
              "        \n",
              "  <svg xmlns=\"http://www.w3.org/2000/svg\" height=\"24px\"viewBox=\"0 0 24 24\"\n",
              "       width=\"24px\">\n",
              "    <path d=\"M0 0h24v24H0V0z\" fill=\"none\"/>\n",
              "    <path d=\"M18.56 5.44l.94 2.06.94-2.06 2.06-.94-2.06-.94-.94-2.06-.94 2.06-2.06.94zm-11 1L8.5 8.5l.94-2.06 2.06-.94-2.06-.94L8.5 2.5l-.94 2.06-2.06.94zm10 10l.94 2.06.94-2.06 2.06-.94-2.06-.94-.94-2.06-.94 2.06-2.06.94z\"/><path d=\"M17.41 7.96l-1.37-1.37c-.4-.4-.92-.59-1.43-.59-.52 0-1.04.2-1.43.59L10.3 9.45l-7.72 7.72c-.78.78-.78 2.05 0 2.83L4 21.41c.39.39.9.59 1.41.59.51 0 1.02-.2 1.41-.59l7.78-7.78 2.81-2.81c.8-.78.8-2.07 0-2.86zM5.41 20L4 18.59l7.72-7.72 1.47 1.35L5.41 20z\"/>\n",
              "  </svg>\n",
              "      </button>\n",
              "      \n",
              "  <style>\n",
              "    .colab-df-container {\n",
              "      display:flex;\n",
              "      flex-wrap:wrap;\n",
              "      gap: 12px;\n",
              "    }\n",
              "\n",
              "    .colab-df-convert {\n",
              "      background-color: #E8F0FE;\n",
              "      border: none;\n",
              "      border-radius: 50%;\n",
              "      cursor: pointer;\n",
              "      display: none;\n",
              "      fill: #1967D2;\n",
              "      height: 32px;\n",
              "      padding: 0 0 0 0;\n",
              "      width: 32px;\n",
              "    }\n",
              "\n",
              "    .colab-df-convert:hover {\n",
              "      background-color: #E2EBFA;\n",
              "      box-shadow: 0px 1px 2px rgba(60, 64, 67, 0.3), 0px 1px 3px 1px rgba(60, 64, 67, 0.15);\n",
              "      fill: #174EA6;\n",
              "    }\n",
              "\n",
              "    [theme=dark] .colab-df-convert {\n",
              "      background-color: #3B4455;\n",
              "      fill: #D2E3FC;\n",
              "    }\n",
              "\n",
              "    [theme=dark] .colab-df-convert:hover {\n",
              "      background-color: #434B5C;\n",
              "      box-shadow: 0px 1px 3px 1px rgba(0, 0, 0, 0.15);\n",
              "      filter: drop-shadow(0px 1px 2px rgba(0, 0, 0, 0.3));\n",
              "      fill: #FFFFFF;\n",
              "    }\n",
              "  </style>\n",
              "\n",
              "      <script>\n",
              "        const buttonEl =\n",
              "          document.querySelector('#df-7ac38a8f-1159-4dad-aa31-bfee43b01372 button.colab-df-convert');\n",
              "        buttonEl.style.display =\n",
              "          google.colab.kernel.accessAllowed ? 'block' : 'none';\n",
              "\n",
              "        async function convertToInteractive(key) {\n",
              "          const element = document.querySelector('#df-7ac38a8f-1159-4dad-aa31-bfee43b01372');\n",
              "          const dataTable =\n",
              "            await google.colab.kernel.invokeFunction('convertToInteractive',\n",
              "                                                     [key], {});\n",
              "          if (!dataTable) return;\n",
              "\n",
              "          const docLinkHtml = 'Like what you see? Visit the ' +\n",
              "            '<a target=\"_blank\" href=https://colab.research.google.com/notebooks/data_table.ipynb>data table notebook</a>'\n",
              "            + ' to learn more about interactive tables.';\n",
              "          element.innerHTML = '';\n",
              "          dataTable['output_type'] = 'display_data';\n",
              "          await google.colab.output.renderOutput(dataTable, element);\n",
              "          const docLink = document.createElement('div');\n",
              "          docLink.innerHTML = docLinkHtml;\n",
              "          element.appendChild(docLink);\n",
              "        }\n",
              "      </script>\n",
              "    </div>\n",
              "  </div>\n",
              "  "
            ]
          },
          "metadata": {},
          "execution_count": 11
        }
      ]
    },
    {
      "cell_type": "code",
      "source": [
        "# val code sequence\n",
        "val_code_freq = get_code_freq(df_val['sequence'], 'Val')\n",
        "val_code_freq"
      ],
      "metadata": {
        "colab": {
          "base_uri": "https://localhost:8080/",
          "height": 774
        },
        "id": "aStw88o4oqv4",
        "outputId": "78f0cca1-f37d-4c8c-8cc0-07c2ddafd007"
      },
      "execution_count": null,
      "outputs": [
        {
          "output_type": "stream",
          "name": "stdout",
          "text": [
            "Codes: Val\n",
            "Total unique codes: 22\n"
          ]
        },
        {
          "output_type": "execute_result",
          "data": {
            "text/plain": [
              "   Code     Freq\n",
              "0     L  1967025\n",
              "1     A  1667703\n",
              "2     V  1382128\n",
              "3     G  1376124\n",
              "4     E  1249356\n",
              "5     S  1210750\n",
              "6     I  1185722\n",
              "7     R  1085950\n",
              "8     D  1080572\n",
              "9     K  1047638\n",
              "10    T  1039590\n",
              "11    P   850937\n",
              "12    F   820778\n",
              "13    N   757315\n",
              "14    Q   714424\n",
              "15    Y   639252\n",
              "16    M   428275\n",
              "17    H   426922\n",
              "18    C   264434\n",
              "19    W   263317\n",
              "20    X      146\n",
              "21    U       12"
            ],
            "text/html": [
              "\n",
              "  <div id=\"df-78102675-c1e1-489c-9458-76487cf58846\">\n",
              "    <div class=\"colab-df-container\">\n",
              "      <div>\n",
              "<style scoped>\n",
              "    .dataframe tbody tr th:only-of-type {\n",
              "        vertical-align: middle;\n",
              "    }\n",
              "\n",
              "    .dataframe tbody tr th {\n",
              "        vertical-align: top;\n",
              "    }\n",
              "\n",
              "    .dataframe thead th {\n",
              "        text-align: right;\n",
              "    }\n",
              "</style>\n",
              "<table border=\"1\" class=\"dataframe\">\n",
              "  <thead>\n",
              "    <tr style=\"text-align: right;\">\n",
              "      <th></th>\n",
              "      <th>Code</th>\n",
              "      <th>Freq</th>\n",
              "    </tr>\n",
              "  </thead>\n",
              "  <tbody>\n",
              "    <tr>\n",
              "      <th>0</th>\n",
              "      <td>L</td>\n",
              "      <td>1967025</td>\n",
              "    </tr>\n",
              "    <tr>\n",
              "      <th>1</th>\n",
              "      <td>A</td>\n",
              "      <td>1667703</td>\n",
              "    </tr>\n",
              "    <tr>\n",
              "      <th>2</th>\n",
              "      <td>V</td>\n",
              "      <td>1382128</td>\n",
              "    </tr>\n",
              "    <tr>\n",
              "      <th>3</th>\n",
              "      <td>G</td>\n",
              "      <td>1376124</td>\n",
              "    </tr>\n",
              "    <tr>\n",
              "      <th>4</th>\n",
              "      <td>E</td>\n",
              "      <td>1249356</td>\n",
              "    </tr>\n",
              "    <tr>\n",
              "      <th>5</th>\n",
              "      <td>S</td>\n",
              "      <td>1210750</td>\n",
              "    </tr>\n",
              "    <tr>\n",
              "      <th>6</th>\n",
              "      <td>I</td>\n",
              "      <td>1185722</td>\n",
              "    </tr>\n",
              "    <tr>\n",
              "      <th>7</th>\n",
              "      <td>R</td>\n",
              "      <td>1085950</td>\n",
              "    </tr>\n",
              "    <tr>\n",
              "      <th>8</th>\n",
              "      <td>D</td>\n",
              "      <td>1080572</td>\n",
              "    </tr>\n",
              "    <tr>\n",
              "      <th>9</th>\n",
              "      <td>K</td>\n",
              "      <td>1047638</td>\n",
              "    </tr>\n",
              "    <tr>\n",
              "      <th>10</th>\n",
              "      <td>T</td>\n",
              "      <td>1039590</td>\n",
              "    </tr>\n",
              "    <tr>\n",
              "      <th>11</th>\n",
              "      <td>P</td>\n",
              "      <td>850937</td>\n",
              "    </tr>\n",
              "    <tr>\n",
              "      <th>12</th>\n",
              "      <td>F</td>\n",
              "      <td>820778</td>\n",
              "    </tr>\n",
              "    <tr>\n",
              "      <th>13</th>\n",
              "      <td>N</td>\n",
              "      <td>757315</td>\n",
              "    </tr>\n",
              "    <tr>\n",
              "      <th>14</th>\n",
              "      <td>Q</td>\n",
              "      <td>714424</td>\n",
              "    </tr>\n",
              "    <tr>\n",
              "      <th>15</th>\n",
              "      <td>Y</td>\n",
              "      <td>639252</td>\n",
              "    </tr>\n",
              "    <tr>\n",
              "      <th>16</th>\n",
              "      <td>M</td>\n",
              "      <td>428275</td>\n",
              "    </tr>\n",
              "    <tr>\n",
              "      <th>17</th>\n",
              "      <td>H</td>\n",
              "      <td>426922</td>\n",
              "    </tr>\n",
              "    <tr>\n",
              "      <th>18</th>\n",
              "      <td>C</td>\n",
              "      <td>264434</td>\n",
              "    </tr>\n",
              "    <tr>\n",
              "      <th>19</th>\n",
              "      <td>W</td>\n",
              "      <td>263317</td>\n",
              "    </tr>\n",
              "    <tr>\n",
              "      <th>20</th>\n",
              "      <td>X</td>\n",
              "      <td>146</td>\n",
              "    </tr>\n",
              "    <tr>\n",
              "      <th>21</th>\n",
              "      <td>U</td>\n",
              "      <td>12</td>\n",
              "    </tr>\n",
              "  </tbody>\n",
              "</table>\n",
              "</div>\n",
              "      <button class=\"colab-df-convert\" onclick=\"convertToInteractive('df-78102675-c1e1-489c-9458-76487cf58846')\"\n",
              "              title=\"Convert this dataframe to an interactive table.\"\n",
              "              style=\"display:none;\">\n",
              "        \n",
              "  <svg xmlns=\"http://www.w3.org/2000/svg\" height=\"24px\"viewBox=\"0 0 24 24\"\n",
              "       width=\"24px\">\n",
              "    <path d=\"M0 0h24v24H0V0z\" fill=\"none\"/>\n",
              "    <path d=\"M18.56 5.44l.94 2.06.94-2.06 2.06-.94-2.06-.94-.94-2.06-.94 2.06-2.06.94zm-11 1L8.5 8.5l.94-2.06 2.06-.94-2.06-.94L8.5 2.5l-.94 2.06-2.06.94zm10 10l.94 2.06.94-2.06 2.06-.94-2.06-.94-.94-2.06-.94 2.06-2.06.94z\"/><path d=\"M17.41 7.96l-1.37-1.37c-.4-.4-.92-.59-1.43-.59-.52 0-1.04.2-1.43.59L10.3 9.45l-7.72 7.72c-.78.78-.78 2.05 0 2.83L4 21.41c.39.39.9.59 1.41.59.51 0 1.02-.2 1.41-.59l7.78-7.78 2.81-2.81c.8-.78.8-2.07 0-2.86zM5.41 20L4 18.59l7.72-7.72 1.47 1.35L5.41 20z\"/>\n",
              "  </svg>\n",
              "      </button>\n",
              "      \n",
              "  <style>\n",
              "    .colab-df-container {\n",
              "      display:flex;\n",
              "      flex-wrap:wrap;\n",
              "      gap: 12px;\n",
              "    }\n",
              "\n",
              "    .colab-df-convert {\n",
              "      background-color: #E8F0FE;\n",
              "      border: none;\n",
              "      border-radius: 50%;\n",
              "      cursor: pointer;\n",
              "      display: none;\n",
              "      fill: #1967D2;\n",
              "      height: 32px;\n",
              "      padding: 0 0 0 0;\n",
              "      width: 32px;\n",
              "    }\n",
              "\n",
              "    .colab-df-convert:hover {\n",
              "      background-color: #E2EBFA;\n",
              "      box-shadow: 0px 1px 2px rgba(60, 64, 67, 0.3), 0px 1px 3px 1px rgba(60, 64, 67, 0.15);\n",
              "      fill: #174EA6;\n",
              "    }\n",
              "\n",
              "    [theme=dark] .colab-df-convert {\n",
              "      background-color: #3B4455;\n",
              "      fill: #D2E3FC;\n",
              "    }\n",
              "\n",
              "    [theme=dark] .colab-df-convert:hover {\n",
              "      background-color: #434B5C;\n",
              "      box-shadow: 0px 1px 3px 1px rgba(0, 0, 0, 0.15);\n",
              "      filter: drop-shadow(0px 1px 2px rgba(0, 0, 0, 0.3));\n",
              "      fill: #FFFFFF;\n",
              "    }\n",
              "  </style>\n",
              "\n",
              "      <script>\n",
              "        const buttonEl =\n",
              "          document.querySelector('#df-78102675-c1e1-489c-9458-76487cf58846 button.colab-df-convert');\n",
              "        buttonEl.style.display =\n",
              "          google.colab.kernel.accessAllowed ? 'block' : 'none';\n",
              "\n",
              "        async function convertToInteractive(key) {\n",
              "          const element = document.querySelector('#df-78102675-c1e1-489c-9458-76487cf58846');\n",
              "          const dataTable =\n",
              "            await google.colab.kernel.invokeFunction('convertToInteractive',\n",
              "                                                     [key], {});\n",
              "          if (!dataTable) return;\n",
              "\n",
              "          const docLinkHtml = 'Like what you see? Visit the ' +\n",
              "            '<a target=\"_blank\" href=https://colab.research.google.com/notebooks/data_table.ipynb>data table notebook</a>'\n",
              "            + ' to learn more about interactive tables.';\n",
              "          element.innerHTML = '';\n",
              "          dataTable['output_type'] = 'display_data';\n",
              "          await google.colab.output.renderOutput(dataTable, element);\n",
              "          const docLink = document.createElement('div');\n",
              "          docLink.innerHTML = docLinkHtml;\n",
              "          element.appendChild(docLink);\n",
              "        }\n",
              "      </script>\n",
              "    </div>\n",
              "  </div>\n",
              "  "
            ]
          },
          "metadata": {},
          "execution_count": 12
        }
      ]
    },
    {
      "cell_type": "code",
      "source": [
        "# test code sequence\n",
        "test_code_freq = get_code_freq(df_test['sequence'], 'Test')\n",
        "test_code_freq"
      ],
      "metadata": {
        "colab": {
          "base_uri": "https://localhost:8080/",
          "height": 837
        },
        "id": "w6rMCQQloyoY",
        "outputId": "6d66f1e8-75b2-4493-b32b-ef455f7a0168"
      },
      "execution_count": null,
      "outputs": [
        {
          "output_type": "stream",
          "name": "stdout",
          "text": [
            "Codes: Test\n",
            "Total unique codes: 24\n"
          ]
        },
        {
          "output_type": "execute_result",
          "data": {
            "text/plain": [
              "   Code     Freq\n",
              "0     L  1967046\n",
              "1     A  1668137\n",
              "2     V  1380962\n",
              "3     G  1375349\n",
              "4     E  1251000\n",
              "5     S  1210559\n",
              "6     I  1184239\n",
              "7     R  1085786\n",
              "8     D  1078379\n",
              "9     K  1045957\n",
              "10    T  1038682\n",
              "11    P   851574\n",
              "12    F   822738\n",
              "13    N   756549\n",
              "14    Q   712317\n",
              "15    Y   639218\n",
              "16    M   428892\n",
              "17    H   425862\n",
              "18    C   264168\n",
              "19    W   263755\n",
              "20    X      198\n",
              "21    U       12\n",
              "22    Z        4\n",
              "23    B        2"
            ],
            "text/html": [
              "\n",
              "  <div id=\"df-023b7974-6af4-43ee-beb3-35302c6f6b36\">\n",
              "    <div class=\"colab-df-container\">\n",
              "      <div>\n",
              "<style scoped>\n",
              "    .dataframe tbody tr th:only-of-type {\n",
              "        vertical-align: middle;\n",
              "    }\n",
              "\n",
              "    .dataframe tbody tr th {\n",
              "        vertical-align: top;\n",
              "    }\n",
              "\n",
              "    .dataframe thead th {\n",
              "        text-align: right;\n",
              "    }\n",
              "</style>\n",
              "<table border=\"1\" class=\"dataframe\">\n",
              "  <thead>\n",
              "    <tr style=\"text-align: right;\">\n",
              "      <th></th>\n",
              "      <th>Code</th>\n",
              "      <th>Freq</th>\n",
              "    </tr>\n",
              "  </thead>\n",
              "  <tbody>\n",
              "    <tr>\n",
              "      <th>0</th>\n",
              "      <td>L</td>\n",
              "      <td>1967046</td>\n",
              "    </tr>\n",
              "    <tr>\n",
              "      <th>1</th>\n",
              "      <td>A</td>\n",
              "      <td>1668137</td>\n",
              "    </tr>\n",
              "    <tr>\n",
              "      <th>2</th>\n",
              "      <td>V</td>\n",
              "      <td>1380962</td>\n",
              "    </tr>\n",
              "    <tr>\n",
              "      <th>3</th>\n",
              "      <td>G</td>\n",
              "      <td>1375349</td>\n",
              "    </tr>\n",
              "    <tr>\n",
              "      <th>4</th>\n",
              "      <td>E</td>\n",
              "      <td>1251000</td>\n",
              "    </tr>\n",
              "    <tr>\n",
              "      <th>5</th>\n",
              "      <td>S</td>\n",
              "      <td>1210559</td>\n",
              "    </tr>\n",
              "    <tr>\n",
              "      <th>6</th>\n",
              "      <td>I</td>\n",
              "      <td>1184239</td>\n",
              "    </tr>\n",
              "    <tr>\n",
              "      <th>7</th>\n",
              "      <td>R</td>\n",
              "      <td>1085786</td>\n",
              "    </tr>\n",
              "    <tr>\n",
              "      <th>8</th>\n",
              "      <td>D</td>\n",
              "      <td>1078379</td>\n",
              "    </tr>\n",
              "    <tr>\n",
              "      <th>9</th>\n",
              "      <td>K</td>\n",
              "      <td>1045957</td>\n",
              "    </tr>\n",
              "    <tr>\n",
              "      <th>10</th>\n",
              "      <td>T</td>\n",
              "      <td>1038682</td>\n",
              "    </tr>\n",
              "    <tr>\n",
              "      <th>11</th>\n",
              "      <td>P</td>\n",
              "      <td>851574</td>\n",
              "    </tr>\n",
              "    <tr>\n",
              "      <th>12</th>\n",
              "      <td>F</td>\n",
              "      <td>822738</td>\n",
              "    </tr>\n",
              "    <tr>\n",
              "      <th>13</th>\n",
              "      <td>N</td>\n",
              "      <td>756549</td>\n",
              "    </tr>\n",
              "    <tr>\n",
              "      <th>14</th>\n",
              "      <td>Q</td>\n",
              "      <td>712317</td>\n",
              "    </tr>\n",
              "    <tr>\n",
              "      <th>15</th>\n",
              "      <td>Y</td>\n",
              "      <td>639218</td>\n",
              "    </tr>\n",
              "    <tr>\n",
              "      <th>16</th>\n",
              "      <td>M</td>\n",
              "      <td>428892</td>\n",
              "    </tr>\n",
              "    <tr>\n",
              "      <th>17</th>\n",
              "      <td>H</td>\n",
              "      <td>425862</td>\n",
              "    </tr>\n",
              "    <tr>\n",
              "      <th>18</th>\n",
              "      <td>C</td>\n",
              "      <td>264168</td>\n",
              "    </tr>\n",
              "    <tr>\n",
              "      <th>19</th>\n",
              "      <td>W</td>\n",
              "      <td>263755</td>\n",
              "    </tr>\n",
              "    <tr>\n",
              "      <th>20</th>\n",
              "      <td>X</td>\n",
              "      <td>198</td>\n",
              "    </tr>\n",
              "    <tr>\n",
              "      <th>21</th>\n",
              "      <td>U</td>\n",
              "      <td>12</td>\n",
              "    </tr>\n",
              "    <tr>\n",
              "      <th>22</th>\n",
              "      <td>Z</td>\n",
              "      <td>4</td>\n",
              "    </tr>\n",
              "    <tr>\n",
              "      <th>23</th>\n",
              "      <td>B</td>\n",
              "      <td>2</td>\n",
              "    </tr>\n",
              "  </tbody>\n",
              "</table>\n",
              "</div>\n",
              "      <button class=\"colab-df-convert\" onclick=\"convertToInteractive('df-023b7974-6af4-43ee-beb3-35302c6f6b36')\"\n",
              "              title=\"Convert this dataframe to an interactive table.\"\n",
              "              style=\"display:none;\">\n",
              "        \n",
              "  <svg xmlns=\"http://www.w3.org/2000/svg\" height=\"24px\"viewBox=\"0 0 24 24\"\n",
              "       width=\"24px\">\n",
              "    <path d=\"M0 0h24v24H0V0z\" fill=\"none\"/>\n",
              "    <path d=\"M18.56 5.44l.94 2.06.94-2.06 2.06-.94-2.06-.94-.94-2.06-.94 2.06-2.06.94zm-11 1L8.5 8.5l.94-2.06 2.06-.94-2.06-.94L8.5 2.5l-.94 2.06-2.06.94zm10 10l.94 2.06.94-2.06 2.06-.94-2.06-.94-.94-2.06-.94 2.06-2.06.94z\"/><path d=\"M17.41 7.96l-1.37-1.37c-.4-.4-.92-.59-1.43-.59-.52 0-1.04.2-1.43.59L10.3 9.45l-7.72 7.72c-.78.78-.78 2.05 0 2.83L4 21.41c.39.39.9.59 1.41.59.51 0 1.02-.2 1.41-.59l7.78-7.78 2.81-2.81c.8-.78.8-2.07 0-2.86zM5.41 20L4 18.59l7.72-7.72 1.47 1.35L5.41 20z\"/>\n",
              "  </svg>\n",
              "      </button>\n",
              "      \n",
              "  <style>\n",
              "    .colab-df-container {\n",
              "      display:flex;\n",
              "      flex-wrap:wrap;\n",
              "      gap: 12px;\n",
              "    }\n",
              "\n",
              "    .colab-df-convert {\n",
              "      background-color: #E8F0FE;\n",
              "      border: none;\n",
              "      border-radius: 50%;\n",
              "      cursor: pointer;\n",
              "      display: none;\n",
              "      fill: #1967D2;\n",
              "      height: 32px;\n",
              "      padding: 0 0 0 0;\n",
              "      width: 32px;\n",
              "    }\n",
              "\n",
              "    .colab-df-convert:hover {\n",
              "      background-color: #E2EBFA;\n",
              "      box-shadow: 0px 1px 2px rgba(60, 64, 67, 0.3), 0px 1px 3px 1px rgba(60, 64, 67, 0.15);\n",
              "      fill: #174EA6;\n",
              "    }\n",
              "\n",
              "    [theme=dark] .colab-df-convert {\n",
              "      background-color: #3B4455;\n",
              "      fill: #D2E3FC;\n",
              "    }\n",
              "\n",
              "    [theme=dark] .colab-df-convert:hover {\n",
              "      background-color: #434B5C;\n",
              "      box-shadow: 0px 1px 3px 1px rgba(0, 0, 0, 0.15);\n",
              "      filter: drop-shadow(0px 1px 2px rgba(0, 0, 0, 0.3));\n",
              "      fill: #FFFFFF;\n",
              "    }\n",
              "  </style>\n",
              "\n",
              "      <script>\n",
              "        const buttonEl =\n",
              "          document.querySelector('#df-023b7974-6af4-43ee-beb3-35302c6f6b36 button.colab-df-convert');\n",
              "        buttonEl.style.display =\n",
              "          google.colab.kernel.accessAllowed ? 'block' : 'none';\n",
              "\n",
              "        async function convertToInteractive(key) {\n",
              "          const element = document.querySelector('#df-023b7974-6af4-43ee-beb3-35302c6f6b36');\n",
              "          const dataTable =\n",
              "            await google.colab.kernel.invokeFunction('convertToInteractive',\n",
              "                                                     [key], {});\n",
              "          if (!dataTable) return;\n",
              "\n",
              "          const docLinkHtml = 'Like what you see? Visit the ' +\n",
              "            '<a target=\"_blank\" href=https://colab.research.google.com/notebooks/data_table.ipynb>data table notebook</a>'\n",
              "            + ' to learn more about interactive tables.';\n",
              "          element.innerHTML = '';\n",
              "          dataTable['output_type'] = 'display_data';\n",
              "          await google.colab.output.renderOutput(dataTable, element);\n",
              "          const docLink = document.createElement('div');\n",
              "          docLink.innerHTML = docLinkHtml;\n",
              "          element.appendChild(docLink);\n",
              "        }\n",
              "      </script>\n",
              "    </div>\n",
              "  </div>\n",
              "  "
            ]
          },
          "metadata": {},
          "execution_count": 13
        }
      ]
    },
    {
      "cell_type": "code",
      "source": [
        "def plot_code_freq(df, data_name):\n",
        "  \n",
        "  plt.title(f'Code frequency: {data_name}')\n",
        "  sns.barplot(x='Code', y='Freq', data=df)\n",
        "plt.subplot(1, 3, 1)\n",
        "plot_code_freq(train_code_freq, 'Train')\n",
        "\n",
        "plt.subplot(1, 3, 2)\n",
        "plot_code_freq(val_code_freq, 'Val')\n",
        "\n",
        "plt.subplot(1, 3, 3)\n",
        "plot_code_freq(test_code_freq, 'Test')\n",
        "\n",
        "plt.subplots_adjust(right=3.0)\n",
        "plt.show()"
      ],
      "metadata": {
        "id": "9Y3JP1Xeo8AH",
        "colab": {
          "base_uri": "https://localhost:8080/",
          "height": 284
        },
        "outputId": "d1d30559-7edd-458e-8355-fa99b95e625b"
      },
      "execution_count": null,
      "outputs": [
        {
          "output_type": "display_data",
          "data": {
            "text/plain": [
              "<Figure size 432x288 with 3 Axes>"
            ],
            "image/png": "[encoded data removed]"
          },
          "metadata": {
            "needs_background": "light"
          }
        }
      ]
    },
    {
      "cell_type": "markdown",
      "source": [
        "# **OBSERVATIONS:**"
      ],
      "metadata": {
        "id": "1cKDBFdypc8e"
      }
    },
    {
      "cell_type": "markdown",
      "source": [
        "1.   Most frequent amino acid code is L followed by A, V, G.\n",
        "2.   As we can see that the uncommon amino acids (i.e., X, U, B, O, Z) are present in very less quantity. Therefore we can consider only 20 common natural amino acids for sequence encoding."
      ],
      "metadata": {
        "id": "xhzO3hB0pyyc"
      }
    },
    {
      "cell_type": "markdown",
      "source": [
        "## **Protein families with most sequences(No. of observations)**"
      ],
      "metadata": {
        "id": "FC6gv2pEp7Qv"
      }
    },
    {
      "cell_type": "code",
      "source": [
        "df_train.groupby('family_id').size().sort_values(ascending=False).head(20)"
      ],
      "metadata": {
        "colab": {
          "base_uri": "https://localhost:8080/"
        },
        "id": "0q5APqoeqI_m",
        "outputId": "2df9df83-e25c-4e39-ba77-e0be5a9caf04"
      },
      "execution_count": null,
      "outputs": [
        {
          "output_type": "execute_result",
          "data": {
            "text/plain": [
              "family_id\n",
              "Methyltransf_25    3637\n",
              "LRR_1              1927\n",
              "Acetyltransf_7     1761\n",
              "His_kinase         1537\n",
              "Bac_transf         1528\n",
              "Lum_binding        1504\n",
              "DNA_binding_1      1345\n",
              "Chromate_transp    1265\n",
              "Lipase_GDSL_2      1252\n",
              "DnaJ_CXXCXGXG      1210\n",
              "SRP54_N            1185\n",
              "WD40               1173\n",
              "OTCace_N           1171\n",
              "PEP-utilizers      1147\n",
              "Glycos_trans_3N    1138\n",
              "THF_DHG_CYH        1113\n",
              "Prenyltransf       1104\n",
              "HTH_1              1064\n",
              "Maf                1061\n",
              "DHH                1057\n",
              "dtype: int64"
            ]
          },
          "metadata": {},
          "execution_count": 15
        }
      ]
    },
    {
      "cell_type": "code",
      "source": [
        "df_val.groupby('family_id').size().sort_values(ascending=False).head(20)"
      ],
      "metadata": {
        "colab": {
          "base_uri": "https://localhost:8080/"
        },
        "id": "1OBoWJTeqO50",
        "outputId": "89bf723d-2ae3-46cb-e0d7-a8155e83ab44"
      },
      "execution_count": null,
      "outputs": [
        {
          "output_type": "execute_result",
          "data": {
            "text/plain": [
              "family_id\n",
              "Methyltransf_25    454\n",
              "LRR_1              240\n",
              "Acetyltransf_7     219\n",
              "His_kinase         192\n",
              "Bac_transf         190\n",
              "Lum_binding        187\n",
              "DNA_binding_1      168\n",
              "Chromate_transp    157\n",
              "Lipase_GDSL_2      156\n",
              "DnaJ_CXXCXGXG      151\n",
              "SRP54_N            148\n",
              "OTCace_N           146\n",
              "WD40               146\n",
              "PEP-utilizers      143\n",
              "Glycos_trans_3N    142\n",
              "THF_DHG_CYH        138\n",
              "Prenyltransf       138\n",
              "HTH_1              133\n",
              "Maf                132\n",
              "DHH                131\n",
              "dtype: int64"
            ]
          },
          "metadata": {},
          "execution_count": 16
        }
      ]
    },
    {
      "cell_type": "code",
      "source": [
        "df_test.groupby('family_id').size().sort_values(ascending=False).head(20)"
      ],
      "metadata": {
        "colab": {
          "base_uri": "https://localhost:8080/"
        },
        "id": "505zpFCXqWyZ",
        "outputId": "af390931-08cd-47ca-bf20-2baea4e80712"
      },
      "execution_count": null,
      "outputs": [
        {
          "output_type": "execute_result",
          "data": {
            "text/plain": [
              "family_id\n",
              "Methyltransf_25    454\n",
              "LRR_1              240\n",
              "Acetyltransf_7     219\n",
              "His_kinase         192\n",
              "Bac_transf         190\n",
              "Lum_binding        187\n",
              "DNA_binding_1      168\n",
              "Chromate_transp    157\n",
              "Lipase_GDSL_2      156\n",
              "DnaJ_CXXCXGXG      151\n",
              "SRP54_N            148\n",
              "OTCace_N           146\n",
              "WD40               146\n",
              "PEP-utilizers      143\n",
              "Glycos_trans_3N    142\n",
              "THF_DHG_CYH        138\n",
              "Prenyltransf       138\n",
              "HTH_1              133\n",
              "Maf                132\n",
              "DHH                131\n",
              "dtype: int64"
            ]
          },
          "metadata": {},
          "execution_count": 17
        }
      ]
    },
    {
      "cell_type": "markdown",
      "source": [
        "# **OBSERVATIONS:**"
      ],
      "metadata": {
        "id": "LQSNTw-yquB-"
      }
    },
    {
      "cell_type": "markdown",
      "source": [
        "1.Top 20 classes are same across all the sets [train, test, val].\n",
        "\n",
        "2.Test and Val sets have almost same frequency for the top 20 classes."
      ],
      "metadata": {
        "id": "8U52au_IqzHc"
      }
    },
    {
      "cell_type": "markdown",
      "source": [
        "# **Considering 100 classes based on no. of observations.**"
      ],
      "metadata": {
        "id": "cpNbeyRhNBqB"
      }
    },
    {
      "cell_type": "code",
      "source": [
        "# Considering top 100 classes based on most observations because of limited computational power.\n",
        "\n",
        "classes = df_train['family_accession'].value_counts()[:100].index.tolist()\n",
        "len(classes)"
      ],
      "metadata": {
        "colab": {
          "base_uri": "https://localhost:8080/"
        },
        "id": "dLL6cG5QM226",
        "outputId": "43c8e322-bab7-428e-bc4f-c2470f13a31b"
      },
      "execution_count": null,
      "outputs": [
        {
          "output_type": "execute_result",
          "data": {
            "text/plain": [
              "100"
            ]
          },
          "metadata": {},
          "execution_count": 18
        }
      ]
    },
    {
      "cell_type": "code",
      "source": [
        "# Filtering data based on considered 100 classes.\n",
        "train_sm = df_train.loc[df_train['family_accession'].isin(classes)].reset_index()\n",
        "val_sm = df_val.loc[df_val['family_accession'].isin(classes)].reset_index()\n",
        "test_sm = df_test.loc[df_test['family_accession'].isin(classes)].reset_index()\n",
        "\n",
        "print('Data size after considering 100 classes for each data split:')\n",
        "print('Train size :', len(train_sm))\n",
        "print('Val size :', len(val_sm))\n",
        "print('Test size :', len(test_sm))"
      ],
      "metadata": {
        "colab": {
          "base_uri": "https://localhost:8080/"
        },
        "id": "757SKbV7NTyA",
        "outputId": "4cd26c1f-fbc3-4d4f-9a6f-09b3f33b7b45"
      },
      "execution_count": null,
      "outputs": [
        {
          "output_type": "stream",
          "name": "stdout",
          "text": [
            "Data size after considering 100 classes for each data split:\n",
            "Train size : 92983\n",
            "Val size : 11565\n",
            "Test size : 11565\n"
          ]
        }
      ]
    },
    {
      "cell_type": "code",
      "source": [
        "# No. of unique classes after reducing the data size.\n",
        "\n",
        "calc_unique_cls(train_sm, test_sm, val_sm)"
      ],
      "metadata": {
        "colab": {
          "base_uri": "https://localhost:8080/"
        },
        "id": "RM_CjMfFNYhD",
        "outputId": "7bda140d-03b2-4b1b-a606-abc0781ab8a8"
      },
      "execution_count": null,
      "outputs": [
        {
          "output_type": "stream",
          "name": "stdout",
          "text": [
            "Number of unique classes in Train:  100\n",
            "Number of unique classes in Val:  100\n",
            "Number of unique classes in Test:  100\n"
          ]
        }
      ]
    },
    {
      "cell_type": "markdown",
      "source": [
        "## **DEEP LEARNING MODELS:**"
      ],
      "metadata": {
        "id": "_eOnZOGsNdDI"
      }
    },
    {
      "cell_type": "markdown",
      "source": [
        "Text processing"
      ],
      "metadata": {
        "id": "r0BjNT3rNixC"
      }
    },
    {
      "cell_type": "code",
      "source": [
        "# 1 letter code for 20 natural amino acids\n",
        "\n",
        "codes = ['A', 'C', 'D', 'E', 'F', 'G', 'H', 'I', 'K', 'L',\n",
        "         'M', 'N', 'P', 'Q', 'R', 'S', 'T', 'V', 'W', 'Y']\n",
        "\n",
        "def create_dict(codes):\n",
        "  char_dict = {}\n",
        "  for index, val in enumerate(codes):\n",
        "    char_dict[val] = index+1\n",
        "\n",
        "  return char_dict\n",
        "\n",
        "char_dict = create_dict(codes)\n",
        "\n",
        "print(char_dict)\n",
        "print(\"Dict Length:\", len(char_dict))"
      ],
      "metadata": {
        "colab": {
          "base_uri": "https://localhost:8080/"
        },
        "id": "buKDx82_Nbu7",
        "outputId": "d9e367f6-e875-46d4-a948-318605de029f"
      },
      "execution_count": null,
      "outputs": [
        {
          "output_type": "stream",
          "name": "stdout",
          "text": [
            "{'A': 1, 'C': 2, 'D': 3, 'E': 4, 'F': 5, 'G': 6, 'H': 7, 'I': 8, 'K': 9, 'L': 10, 'M': 11, 'N': 12, 'P': 13, 'Q': 14, 'R': 15, 'S': 16, 'T': 17, 'V': 18, 'W': 19, 'Y': 20}\n",
            "Dict Length: 20\n"
          ]
        }
      ]
    },
    {
      "cell_type": "code",
      "source": [
        "def integer_encoding(data):\n",
        "  \"\"\"\n",
        "  - Encodes code sequence to integer values.\n",
        "  - 20 common amino acids are taken into consideration\n",
        "    and rest 4 are categorized as 0.\n",
        "  \"\"\"\n",
        "  \n",
        "  encode_list = []\n",
        "  for row in data['sequence'].values:\n",
        "    row_encode = []\n",
        "    for code in row:\n",
        "      row_encode.append(char_dict.get(code, 0))\n",
        "    encode_list.append(np.array(row_encode))\n",
        "  \n",
        "  return encode_list\n",
        "train_encode = integer_encoding(train_sm) \n",
        "val_encode = integer_encoding(val_sm) \n",
        "test_encode = integer_encoding(test_sm)"
      ],
      "metadata": {
        "id": "7vAEchlPNrdf"
      },
      "execution_count": null,
      "outputs": []
    },
    {
      "cell_type": "code",
      "source": [
        "# padding sequences\n",
        "\n",
        "max_length = 100\n",
        "train_pad = pad_sequences(train_encode, maxlen=max_length, padding='post', truncating='post')\n",
        "val_pad = pad_sequences(val_encode, maxlen=max_length, padding='post', truncating='post')\n",
        "test_pad = pad_sequences(test_encode, maxlen=max_length, padding='post', truncating='post')\n",
        "\n",
        "train_pad.shape, val_pad.shape, test_pad.shape"
      ],
      "metadata": {
        "colab": {
          "base_uri": "https://localhost:8080/"
        },
        "id": "d7sGsxDqN51R",
        "outputId": "ad246916-2e87-48fe-9bbd-afa272600548"
      },
      "execution_count": null,
      "outputs": [
        {
          "output_type": "execute_result",
          "data": {
            "text/plain": [
              "((92983, 100), (11565, 100), (11565, 100))"
            ]
          },
          "metadata": {},
          "execution_count": 23
        }
      ]
    },
    {
      "cell_type": "code",
      "source": [
        "# One hot encoding of sequences\n",
        "\n",
        "train_ohe = to_categorical(train_pad)\n",
        "val_ohe = to_categorical(val_pad)\n",
        "test_ohe = to_categorical(test_pad)\n",
        "\n",
        "train_ohe.shape, test_ohe.shape, test_ohe.shape "
      ],
      "metadata": {
        "colab": {
          "base_uri": "https://localhost:8080/"
        },
        "id": "RMuqxnnkOBSI",
        "outputId": "abf190f6-2b67-4836-9531-bfdc8c679563"
      },
      "execution_count": null,
      "outputs": [
        {
          "output_type": "execute_result",
          "data": {
            "text/plain": [
              "((92983, 100, 21), (11565, 100, 21), (11565, 100, 21))"
            ]
          },
          "metadata": {},
          "execution_count": 24
        }
      ]
    },
    {
      "cell_type": "code",
      "source": [
        "# label/integer encoding output variable: (y)\n",
        "le = LabelEncoder()\n",
        "\n",
        "y_train_le = le.fit_transform(train_sm['family_accession'])\n",
        "y_val_le = le.transform(val_sm['family_accession'])\n",
        "y_test_le = le.transform(test_sm['family_accession'])\n",
        "\n",
        "y_train_le.shape, y_val_le.shape, y_test_le.shape"
      ],
      "metadata": {
        "colab": {
          "base_uri": "https://localhost:8080/"
        },
        "id": "l2W_I7iQOMmd",
        "outputId": "1ba07b8b-2c4b-4a34-db70-58346dc27806"
      },
      "execution_count": null,
      "outputs": [
        {
          "output_type": "execute_result",
          "data": {
            "text/plain": [
              "((92983,), (11565,), (11565,))"
            ]
          },
          "metadata": {},
          "execution_count": 25
        }
      ]
    },
    {
      "cell_type": "code",
      "source": [
        "# One hot encoding of outputs\n",
        "y_train = to_categorical(y_train_le)\n",
        "y_val = to_categorical(y_val_le)\n",
        "y_test = to_categorical(y_test_le)\n",
        "\n",
        "y_train.shape, y_val.shape, y_test.shape"
      ],
      "metadata": {
        "colab": {
          "base_uri": "https://localhost:8080/"
        },
        "id": "o_KZr8erOaz0",
        "outputId": "dc58cb9f-5b02-4223-ee4b-0260835848a3"
      },
      "execution_count": null,
      "outputs": [
        {
          "output_type": "execute_result",
          "data": {
            "text/plain": [
              "((92983, 100), (11565, 100), (11565, 100))"
            ]
          },
          "metadata": {},
          "execution_count": 26
        }
      ]
    },
    {
      "cell_type": "markdown",
      "source": [
        "# **MODEL 1- BIDIRECTIONAL LSTM**"
      ],
      "metadata": {
        "id": "3R-uuAznOsQX"
      }
    },
    {
      "cell_type": "code",
      "source": [
        "x_input = Input(shape=(100,))\n",
        "emb = Embedding(21, 100, input_length=max_length)(x_input)\n",
        "bi_rnn = Bidirectional(CuDNNLSTM(64, kernel_regularizer=l2(0.01), recurrent_regularizer=l2(0.01), bias_regularizer=l2(0.01)))(emb)\n",
        "x = Dropout(0.3)(bi_rnn)\n",
        "\n",
        "# softmax classifier\n",
        "x_output = Dense(100, activation='softmax')(x)\n",
        "\n",
        "model1 = Model(inputs=x_input, outputs=x_output)\n",
        "model1.compile(optimizer='adam', loss='categorical_crossentropy', metrics=['accuracy'])\n",
        "\n",
        "model1.summary()"
      ],
      "metadata": {
        "colab": {
          "base_uri": "https://localhost:8080/"
        },
        "id": "X6jnaAL61qD-",
        "outputId": "0343458f-5fc9-42f5-c5fb-c4ae84c97e61"
      },
      "execution_count": null,
      "outputs": [
        {
          "output_type": "stream",
          "name": "stdout",
          "text": [
            "Model: \"model\"\n",
            "_________________________________________________________________\n",
            " Layer (type)                Output Shape              Param #   \n",
            "=================================================================\n",
            " input_1 (InputLayer)        [(None, 100)]             0         \n",
            "                                                                 \n",
            " embedding (Embedding)       (None, 100, 100)          2100      \n",
            "                                                                 \n",
            " bidirectional (Bidirectiona  (None, 128)              84992     \n",
            " l)                                                              \n",
            "                                                                 \n",
            " dropout (Dropout)           (None, 128)               0         \n",
            "                                                                 \n",
            " dense (Dense)               (None, 100)               12900     \n",
            "                                                                 \n",
            "=================================================================\n",
            "Total params: 99,992\n",
            "Trainable params: 99,992\n",
            "Non-trainable params: 0\n",
            "_________________________________________________________________\n"
          ]
        }
      ]
    },
    {
      "cell_type": "code",
      "source": [
        "# Early Stopping\n",
        "es = EarlyStopping(monitor='val_loss', patience=3, verbose=1)\n",
        "history1 = model1.fit(\n",
        "    train_pad, y_train,\n",
        "    epochs=20, batch_size=256,\n",
        "    validation_data=(val_pad, y_val),\n",
        "    callbacks=[es]\n",
        "    )"
      ],
      "metadata": {
        "colab": {
          "base_uri": "https://localhost:8080/"
        },
        "id": "JeDHIvHG3Bu0",
        "outputId": "d9b54718-3121-4e79-e5a6-b18fdaa68ba2"
      },
      "execution_count": null,
      "outputs": [
        {
          "output_type": "stream",
          "name": "stdout",
          "text": [
            "Epoch 1/20\n",
            "364/364 [==============================] - 14s 18ms/step - loss: 4.9374 - accuracy: 0.1489 - val_loss: 3.3928 - val_accuracy: 0.3251\n",
            "Epoch 2/20\n",
            "364/364 [==============================] - 6s 16ms/step - loss: 2.8891 - accuracy: 0.4071 - val_loss: 2.4144 - val_accuracy: 0.5185\n",
            "Epoch 3/20\n",
            "364/364 [==============================] - 6s 16ms/step - loss: 2.1484 - accuracy: 0.5770 - val_loss: 1.7887 - val_accuracy: 0.6736\n",
            "Epoch 4/20\n",
            "364/364 [==============================] - 6s 16ms/step - loss: 1.6265 - accuracy: 0.7072 - val_loss: 1.3522 - val_accuracy: 0.7872\n",
            "Epoch 5/20\n",
            "364/364 [==============================] - 6s 16ms/step - loss: 1.2817 - accuracy: 0.7913 - val_loss: 1.0992 - val_accuracy: 0.8367\n",
            "Epoch 6/20\n",
            "364/364 [==============================] - 6s 17ms/step - loss: 1.0734 - accuracy: 0.8350 - val_loss: 0.9149 - val_accuracy: 0.8768\n",
            "Epoch 7/20\n",
            "364/364 [==============================] - 6s 17ms/step - loss: 0.9267 - accuracy: 0.8648 - val_loss: 0.7694 - val_accuracy: 0.9089\n",
            "Epoch 8/20\n",
            "364/364 [==============================] - 8s 22ms/step - loss: 0.8231 - accuracy: 0.8835 - val_loss: 0.6894 - val_accuracy: 0.9217\n",
            "Epoch 9/20\n",
            "364/364 [==============================] - 7s 19ms/step - loss: 0.7392 - accuracy: 0.9001 - val_loss: 0.6850 - val_accuracy: 0.9064\n",
            "Epoch 10/20\n",
            "364/364 [==============================] - 6s 17ms/step - loss: 0.6834 - accuracy: 0.9085 - val_loss: 0.5684 - val_accuracy: 0.9376\n",
            "Epoch 11/20\n",
            "364/364 [==============================] - 6s 16ms/step - loss: 0.6249 - accuracy: 0.9184 - val_loss: 0.5395 - val_accuracy: 0.9400\n",
            "Epoch 12/20\n",
            "364/364 [==============================] - 6s 17ms/step - loss: 0.5901 - accuracy: 0.9235 - val_loss: 0.5099 - val_accuracy: 0.9429\n",
            "Epoch 13/20\n",
            "364/364 [==============================] - 6s 17ms/step - loss: 0.5501 - accuracy: 0.9298 - val_loss: 0.4789 - val_accuracy: 0.9480\n",
            "Epoch 14/20\n",
            "364/364 [==============================] - 6s 17ms/step - loss: 0.5278 - accuracy: 0.9323 - val_loss: 0.4819 - val_accuracy: 0.9414\n",
            "Epoch 15/20\n",
            "364/364 [==============================] - 7s 20ms/step - loss: 0.5057 - accuracy: 0.9358 - val_loss: 0.4220 - val_accuracy: 0.9572\n",
            "Epoch 16/20\n",
            "364/364 [==============================] - 6s 17ms/step - loss: 0.4780 - accuracy: 0.9405 - val_loss: 0.3952 - val_accuracy: 0.9631\n",
            "Epoch 17/20\n",
            "364/364 [==============================] - 7s 20ms/step - loss: 0.4557 - accuracy: 0.9431 - val_loss: 0.4039 - val_accuracy: 0.9567\n",
            "Epoch 18/20\n",
            "364/364 [==============================] - 6s 17ms/step - loss: 0.4491 - accuracy: 0.9432 - val_loss: 0.3936 - val_accuracy: 0.9566\n",
            "Epoch 19/20\n",
            "364/364 [==============================] - 6s 16ms/step - loss: 0.4261 - accuracy: 0.9467 - val_loss: 0.3572 - val_accuracy: 0.9664\n",
            "Epoch 20/20\n",
            "364/364 [==============================] - 6s 16ms/step - loss: 0.4129 - accuracy: 0.9491 - val_loss: 0.3739 - val_accuracy: 0.9585\n"
          ]
        }
      ]
    },
    {
      "cell_type": "code",
      "source": [
        "plt.style.use('ggplot')\n",
        "\n",
        "def plot_history(history):\n",
        "  acc = history.history['accuracy']\n",
        "  val_acc = history.history['val_accuracy']\n",
        "  loss = history.history['loss']\n",
        "  val_loss = history.history['val_loss']\n",
        "  x = range(1, len(acc) + 1)\n",
        "\n",
        "  plt.figure(figsize=(12, 5))\n",
        "  plt.subplot(1, 2, 1)\n",
        "  plt.plot(x, acc, 'b', label='Training acc')\n",
        "  plt.plot(x, val_acc, 'r', label='Validation acc')\n",
        "  plt.title('Training and validation accuracy')\n",
        "  plt.legend()\n",
        "  plt.subplot(1, 2, 2)\n",
        "  plt.plot(x, loss, 'b', label='Training loss')\n",
        "  plt.plot(x, val_loss, 'r', label='Validation loss')\n",
        "  plt.title('Training and validation loss')\n",
        "  plt.legend()\n",
        "\n",
        "def display_model_score(model, train, val, test, batch_size):\n",
        "\n",
        "  train_score = model.evaluate(train[0], train[1], batch_size=batch_size, verbose=1)\n",
        "  print('Train loss: ', train_score[0])\n",
        "  print('Train accuracy: ', train_score[1])\n",
        "  print('-'*70)\n",
        "  val_score = model.evaluate(val[0], val[1], batch_size=batch_size, verbose=1)\n",
        "  print('Val loss: ', val_score[0])\n",
        "  print('Val accuracy: ', val_score[1])\n",
        "  print('-'*70)\n",
        "  \n",
        "  test_score = model.evaluate(test[0], test[1], batch_size=batch_size, verbose=1)\n",
        "  print('Test loss: ', test_score[0])\n",
        "  print('Test accuracy: ', test_score[1])\n"
      ],
      "metadata": {
        "id": "-vqmrduT8GME"
      },
      "execution_count": null,
      "outputs": []
    },
    {
      "cell_type": "code",
      "source": [
        "# Showing the model's results\n",
        "display_model_score(model1,\n",
        "    [train_pad, y_train],\n",
        "    [val_pad, y_val],\n",
        "    [test_pad, y_test],\n",
        "    256)\n",
        "\n",
        "plot_history(history1)\n"
      ],
      "metadata": {
        "colab": {
          "base_uri": "https://localhost:8080/",
          "height": 528
        },
        "id": "KQqSvezf9n6B",
        "outputId": "08c18433-33c5-4305-9247-4a0dcdc06f83"
      },
      "execution_count": null,
      "outputs": [
        {
          "output_type": "stream",
          "name": "stdout",
          "text": [
            "364/364 [==============================] - 3s 8ms/step - loss: 0.3639 - accuracy: 0.9621\n",
            "Train loss:  0.36387965083122253\n",
            "Train accuracy:  0.9620683193206787\n",
            "----------------------------------------------------------------------\n",
            "46/46 [==============================] - 0s 9ms/step - loss: 0.3739 - accuracy: 0.9585\n",
            "Val loss:  0.3738696277141571\n",
            "Val accuracy:  0.9584954380989075\n",
            "----------------------------------------------------------------------\n",
            "46/46 [==============================] - 0s 8ms/step - loss: 0.3802 - accuracy: 0.9565\n",
            "Test loss:  0.38017746806144714\n",
            "Test accuracy:  0.9565067291259766\n"
          ]
        },
        {
          "output_type": "display_data",
          "data": {
            "text/plain": [
              "<Figure size 864x360 with 2 Axes>"
            ],
            "image/png": "[encoded data removed]"
          },
          "metadata": {}
        }
      ]
    },
    {
      "cell_type": "markdown",
      "source": [
        "# **MODEL 2- RESNET**"
      ],
      "metadata": {
        "id": "fsfUvNRM9zQ_"
      }
    },
    {
      "cell_type": "code",
      "source": [
        "def residual_block(data, filters, d_rate):\n",
        "  \"\"\"\n",
        "  _data: input\n",
        "  _filters: convolution filters\n",
        "  _d_rate: dilation rate\n",
        "  \"\"\"\n",
        "\n",
        "  shortcut = data\n",
        "\n",
        "  bn1 = BatchNormalization()(data)\n",
        "  act1 = Activation('relu')(bn1)\n",
        "  conv1 = Conv1D(filters, 1, dilation_rate=d_rate, padding='same', kernel_regularizer=l2(0.001))(act1)\n",
        "\n",
        "  #bottleneck convolution\n",
        "  bn2 = BatchNormalization()(conv1)\n",
        "  act2 = Activation('relu')(bn2)\n",
        "  conv2 = Conv1D(filters, 3, padding='same', kernel_regularizer=l2(0.001))(act2)\n",
        "\n",
        "  #skip connection\n",
        "  x = Add()([conv2, shortcut])\n",
        "\n",
        "  return x"
      ],
      "metadata": {
        "id": "IEvHTvao980T"
      },
      "execution_count": null,
      "outputs": []
    },
    {
      "cell_type": "code",
      "source": [
        "# model\n",
        "\n",
        "x_input = Input(shape=(100, 21))\n",
        "\n",
        "#initial conv\n",
        "conv = Conv1D(100, 1, padding='same')(x_input) \n",
        "\n",
        "# per-residue representation\n",
        "res1 = residual_block(conv, 100, 2)\n",
        "res2 = residual_block(res1, 100, 3)\n",
        "\n",
        "x = MaxPooling1D(3)(res2)\n",
        "x = Dropout(0.5)(x)\n",
        "\n",
        "# softmax classifier\n",
        "x = Flatten()(x)\n",
        "x_output = Dense(100, activation='softmax', kernel_regularizer=l2(0.0001))(x)\n",
        "\n",
        "model2 = Model(inputs=x_input, outputs=x_output)\n",
        "model2.compile(optimizer='adam', loss='categorical_crossentropy', metrics=['accuracy'])\n",
        "\n",
        "model2.summary()"
      ],
      "metadata": {
        "colab": {
          "base_uri": "https://localhost:8080/"
        },
        "id": "0-dmAsFV-Gkm",
        "outputId": "9a7601ba-09f9-4b4e-e5e7-06473edca800"
      },
      "execution_count": null,
      "outputs": [
        {
          "output_type": "stream",
          "name": "stdout",
          "text": [
            "Model: \"model_1\"\n",
            "__________________________________________________________________________________________________\n",
            " Layer (type)                   Output Shape         Param #     Connected to                     \n",
            "==================================================================================================\n",
            " input_2 (InputLayer)           [(None, 100, 21)]    0           []                               \n",
            "                                                                                                  \n",
            " conv1d (Conv1D)                (None, 100, 100)     2200        ['input_2[0][0]']                \n",
            "                                                                                                  \n",
            " batch_normalization (BatchNorm  (None, 100, 100)    400         ['conv1d[0][0]']                 \n",
            " alization)                                                                                       \n",
            "                                                                                                  \n",
            " activation (Activation)        (None, 100, 100)     0           ['batch_normalization[0][0]']    \n",
            "                                                                                                  \n",
            " conv1d_1 (Conv1D)              (None, 100, 100)     10100       ['activation[0][0]']             \n",
            "                                                                                                  \n",
            " batch_normalization_1 (BatchNo  (None, 100, 100)    400         ['conv1d_1[0][0]']               \n",
            " rmalization)                                                                                     \n",
            "                                                                                                  \n",
            " activation_1 (Activation)      (None, 100, 100)     0           ['batch_normalization_1[0][0]']  \n",
            "                                                                                                  \n",
            " conv1d_2 (Conv1D)              (None, 100, 100)     30100       ['activation_1[0][0]']           \n",
            "                                                                                                  \n",
            " add (Add)                      (None, 100, 100)     0           ['conv1d_2[0][0]',               \n",
            "                                                                  'conv1d[0][0]']                 \n",
            "                                                                                                  \n",
            " batch_normalization_2 (BatchNo  (None, 100, 100)    400         ['add[0][0]']                    \n",
            " rmalization)                                                                                     \n",
            "                                                                                                  \n",
            " activation_2 (Activation)      (None, 100, 100)     0           ['batch_normalization_2[0][0]']  \n",
            "                                                                                                  \n",
            " conv1d_3 (Conv1D)              (None, 100, 100)     10100       ['activation_2[0][0]']           \n",
            "                                                                                                  \n",
            " batch_normalization_3 (BatchNo  (None, 100, 100)    400         ['conv1d_3[0][0]']               \n",
            " rmalization)                                                                                     \n",
            "                                                                                                  \n",
            " activation_3 (Activation)      (None, 100, 100)     0           ['batch_normalization_3[0][0]']  \n",
            "                                                                                                  \n",
            " conv1d_4 (Conv1D)              (None, 100, 100)     30100       ['activation_3[0][0]']           \n",
            "                                                                                                  \n",
            " add_1 (Add)                    (None, 100, 100)     0           ['conv1d_4[0][0]',               \n",
            "                                                                  'add[0][0]']                    \n",
            "                                                                                                  \n",
            " max_pooling1d (MaxPooling1D)   (None, 33, 100)      0           ['add_1[0][0]']                  \n",
            "                                                                                                  \n",
            " dropout_1 (Dropout)            (None, 33, 100)      0           ['max_pooling1d[0][0]']          \n",
            "                                                                                                  \n",
            " flatten (Flatten)              (None, 3300)         0           ['dropout_1[0][0]']              \n",
            "                                                                                                  \n",
            " dense_1 (Dense)                (None, 100)          330100      ['flatten[0][0]']                \n",
            "                                                                                                  \n",
            "==================================================================================================\n",
            "Total params: 414,300\n",
            "Trainable params: 413,500\n",
            "Non-trainable params: 800\n",
            "__________________________________________________________________________________________________\n"
          ]
        }
      ]
    },
    {
      "cell_type": "code",
      "source": [
        "# Early Stopping\n",
        "es = EarlyStopping(monitor='val_loss', patience=3, verbose=1)\n",
        "history2 = model2.fit(\n",
        "    train_ohe, y_train,\n",
        "    epochs=10, batch_size=256,\n",
        "    validation_data=(val_ohe, y_val),\n",
        "    callbacks=[es]\n",
        "    )"
      ],
      "metadata": {
        "colab": {
          "base_uri": "https://localhost:8080/"
        },
        "id": "QfKnkIFo-pcJ",
        "outputId": "6a844d79-ad88-4da7-cea3-a1d6e275ac7d"
      },
      "execution_count": null,
      "outputs": [
        {
          "output_type": "stream",
          "name": "stdout",
          "text": [
            "Epoch 1/10\n",
            "364/364 [==============================] - 18s 29ms/step - loss: 0.6884 - accuracy: 0.9324 - val_loss: 0.4083 - val_accuracy: 0.9919\n",
            "Epoch 2/10\n",
            "364/364 [==============================] - 9s 25ms/step - loss: 0.2807 - accuracy: 0.9956 - val_loss: 0.2211 - val_accuracy: 0.9966\n",
            "Epoch 3/10\n",
            "364/364 [==============================] - 9s 25ms/step - loss: 0.1667 - accuracy: 0.9976 - val_loss: 0.1356 - val_accuracy: 0.9959\n",
            "Epoch 4/10\n",
            "364/364 [==============================] - 9s 25ms/step - loss: 0.0984 - accuracy: 0.9983 - val_loss: 0.0841 - val_accuracy: 0.9971\n",
            "Epoch 5/10\n",
            "364/364 [==============================] - 9s 25ms/step - loss: 0.0645 - accuracy: 0.9980 - val_loss: 0.0682 - val_accuracy: 0.9954\n",
            "Epoch 6/10\n",
            "364/364 [==============================] - 9s 26ms/step - loss: 0.0578 - accuracy: 0.9970 - val_loss: 0.0681 - val_accuracy: 0.9950\n",
            "Epoch 7/10\n",
            "364/364 [==============================] - 9s 25ms/step - loss: 0.0618 - accuracy: 0.9959 - val_loss: 0.0823 - val_accuracy: 0.9942\n",
            "Epoch 8/10\n",
            "364/364 [==============================] - 9s 25ms/step - loss: 0.0714 - accuracy: 0.9955 - val_loss: 0.0858 - val_accuracy: 0.9946\n",
            "Epoch 9/10\n",
            "364/364 [==============================] - 9s 25ms/step - loss: 0.0779 - accuracy: 0.9955 - val_loss: 0.0920 - val_accuracy: 0.9945\n",
            "Epoch 9: early stopping\n"
          ]
        }
      ]
    },
    {
      "cell_type": "code",
      "source": [
        "display_model_score(\n",
        "    model2,\n",
        "    [train_ohe, y_train],\n",
        "    [val_ohe, y_val],\n",
        "    [test_ohe, y_test],\n",
        "    256)\n",
        "plot_history(history2)"
      ],
      "metadata": {
        "colab": {
          "base_uri": "https://localhost:8080/",
          "height": 528
        },
        "id": "phj3ElfLAF76",
        "outputId": "8441d827-3121-4595-b9be-800daee5462f"
      },
      "execution_count": null,
      "outputs": [
        {
          "output_type": "stream",
          "name": "stdout",
          "text": [
            "364/364 [==============================] - 4s 11ms/step - loss: 0.0669 - accuracy: 0.9992\n",
            "Train loss:  0.06691739708185196\n",
            "Train accuracy:  0.9991503953933716\n",
            "----------------------------------------------------------------------\n",
            "46/46 [==============================] - 0s 10ms/step - loss: 0.0920 - accuracy: 0.9945\n",
            "Val loss:  0.09199228137731552\n",
            "Val accuracy:  0.9944660663604736\n",
            "----------------------------------------------------------------------\n",
            "46/46 [==============================] - 0s 10ms/step - loss: 0.0827 - accuracy: 0.9952\n",
            "Test loss:  0.08268526196479797\n",
            "Test accuracy:  0.995157778263092\n"
          ]
        },
        {
          "output_type": "display_data",
          "data": {
            "text/plain": [
              "<Figure size 864x360 with 2 Axes>"
            ],
            "image/png": "[encoded data removed]"
          },
          "metadata": {}
        }
      ]
    },
    {
      "cell_type": "markdown",
      "source": [
        "# **CONCLUSION:** RESNET performs better than BIDIRECTIONAL LSTM."
      ],
      "metadata": {
        "id": "Yao6cTcbAd-i"
      }
    },
    {
      "cell_type": "code",
      "source": [
        "x = PrettyTable()\n",
        "x.field_names = ['Sr.no', 'Model', 'Train Acc', 'Val Acc','Test Acc']\n",
        "\n",
        "x.add_row(['1.', 'Bidirectional LSTM', '0.9721', '0.9678', '0.9671'])\n",
        "x.add_row(['2.', 'ResNet', '0.9993', '0.9957', '0.9955'])\n",
        "\n",
        "print(x)"
      ],
      "metadata": {
        "colab": {
          "base_uri": "https://localhost:8080/"
        },
        "id": "CXT916FAAbvF",
        "outputId": "a7e21ed9-8012-4b15-ddf3-d2dbdc2056f4"
      },
      "execution_count": null,
      "outputs": [
        {
          "output_type": "stream",
          "name": "stdout",
          "text": [
            "+-------+--------------------+-----------+---------+----------+\n",
            "| Sr.no |       Model        | Train Acc | Val Acc | Test Acc |\n",
            "+-------+--------------------+-----------+---------+----------+\n",
            "|   1.  | Bidirectional LSTM |   0.9721  |  0.9678 |  0.9671  |\n",
            "|   2.  |       ResNet       |   0.9993  |  0.9957 |  0.9955  |\n",
            "+-------+--------------------+-----------+---------+----------+\n"
          ]
        }
      ]
    }
  ]
}